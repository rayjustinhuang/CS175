{
 "cells": [
  {
   "cell_type": "markdown",
   "metadata": {
    "collapsed": true
   },
   "source": [
    "## CS 175: Topics in Computational Science - Probabilities, Distributions, and Stochastics\n",
    "Professor: Roy Vincent L. Canseco, MSEE\n",
    "\n",
    "Ray Justin O. Huang | SN: 2012 62256 | Date: January 25, 2017 | rayjustinhuang@gmail.com"
   ]
  },
  {
   "cell_type": "markdown",
   "metadata": {},
   "source": [
    "# Balls Without Replacement Exercise\n",
    "This is an assignment meant to show how the probabilities of certain empirically observable phenomena converge at their analytically derivable values as the number of trials increases."
   ]
  },
  {
   "cell_type": "markdown",
   "metadata": {},
   "source": [
    "### BALL PICKING ENGINE\n",
    "Given a specified number of balls to take and a number of red, white, and black balls to take from, generates a tuple of drawn balls\n",
    "of the format (reds, whites, blacks). By default, there are 7 red balls, 5 white balls, and 8 black balls to pick from."
   ]
  },
  {
   "cell_type": "code",
   "execution_count": 2,
   "metadata": {
    "collapsed": true
   },
   "outputs": [],
   "source": [
    "from numpy import random\n",
    "\n",
    "def BallPicker(take, red=7, white=5, black=8):\n",
    "    R, W, B = 0, 0, 0\n",
    "    for run in range(take):\n",
    "        TotalBalls = red + white + black\n",
    "        seed = random.randint(1,TotalBalls+1)\n",
    "        if seed > red + white:\n",
    "            B += 1\n",
    "            black -= 1\n",
    "        elif seed > red:\n",
    "            W += 1\n",
    "            white -= 1\n",
    "        else:\n",
    "            R += 1\n",
    "            red -= 1\n",
    "    return (R, W, B)"
   ]
  },
  {
   "cell_type": "markdown",
   "metadata": {},
   "source": [
    "### Scenario 1: ONE OF EACH\n",
    "Given a number of runs, returns the probability that the resulting draw turned out to have one of each colored ball. Assumes 3 balls are taken from the bag per draw."
   ]
  },
  {
   "cell_type": "code",
   "execution_count": 3,
   "metadata": {
    "collapsed": true
   },
   "outputs": [],
   "source": [
    "def OneOfEach(runs):\n",
    "    DesiredOutcomes = 0\n",
    "    for i in range(runs):\n",
    "        result = BallPicker(3)\n",
    "        if result == (1,1,1):\n",
    "            DesiredOutcomes += 1\n",
    "    return DesiredOutcomes/runs"
   ]
  },
  {
   "cell_type": "markdown",
   "metadata": {},
   "source": [
    "#### Analytical Solution for Scenario 1\n",
    "Analytically, one can derive the solution for scenario 1 by using the following calculation, which relies on the hypergeometric distribution:\n",
    "\n",
    "\\begin{align}\n",
    "P(R=1,W=1,B=1)=\\frac{{7 \\choose 1}{5 \\choose 1}{8 \\choose 1}}{20 \\choose 3}=\\frac{14}{57}\\approx 24.57\\%\n",
    "\\end{align}"
   ]
  },
  {
   "cell_type": "markdown",
   "metadata": {},
   "source": [
    "### Scenario 2: AT LEAST ONE RED\n",
    "Given a number of runs, returns the probability that the resulting draw turned out to have at least one red ball. Assumes 3 balls are taken from the bag per draw."
   ]
  },
  {
   "cell_type": "code",
   "execution_count": 4,
   "metadata": {
    "collapsed": true
   },
   "outputs": [],
   "source": [
    "def AtLeastOneRed(runs):\n",
    "    DesiredOutcomes = 0\n",
    "    for i in range(runs):\n",
    "        result = BallPicker(3)\n",
    "        if result[0] >= 1:\n",
    "            DesiredOutcomes += 1\n",
    "    return DesiredOutcomes/runs"
   ]
  },
  {
   "cell_type": "markdown",
   "metadata": {},
   "source": [
    "#### Analytical Solution for Scenario 2\n",
    "Analytically, one can derive the solution for scenario 2 by using the following calculation, which also relies on the hypergeometric distribution:\n",
    "\n",
    "\\begin{align}\n",
    "P(R\\geq1)=1-\\frac{{7 \\choose 0}{13 \\choose 3}}{20 \\choose 3}=\\frac{427}{570}\\approx 74.91\\%\n",
    "\\end{align}"
   ]
  },
  {
   "cell_type": "markdown",
   "metadata": {},
   "source": [
    "### Plotting the Scenarios\n",
    "Prepares the necessary axes and other parameters for plotting both bar charts. The aim is to demonstrate that the probabilities of the above two scenarios, when simulated, converage at their analytically derived values as the number of trial runs (or number of draws) increases.\n",
    "\n",
    "Note: The x-axis consists of numbers 10 to 90 in increments of 10, 100 to 900 in increments of 100, 1000 to 9000 in increments of 1000, and 10000, 50000, 100000, 500000, and 1000000."
   ]
  },
  {
   "cell_type": "code",
   "execution_count": 5,
   "metadata": {
    "collapsed": false
   },
   "outputs": [],
   "source": [
    "import matplotlib.pyplot as plt\n",
    "\n",
    "xaxis = [i*10 for i in range(1,10)] + [i*100 for i in range(1,10)] + [i*1000 for i in range(1,10)] + [10**x for x in range(4,7)] + [5*(10**x) for x in range(4,6)]\n",
    "xaxis.sort()\n",
    "xaxislabels = [str(xaxis[i]) for i in range(len(xaxis))]\n",
    "\n",
    "barwidths = [i for i in range(len(xaxis))]\n",
    "\n",
    "yaxis1 = [ OneOfEach(xaxis[i]) for i in range(len(xaxis)) ]\n",
    "\n",
    "yaxis2 = [ AtLeastOneRed(xaxis[i]) for i in range(len(xaxis)) ]"
   ]
  },
  {
   "cell_type": "markdown",
   "metadata": {},
   "source": [
    "#### Plot 1 (Scenario 1: One of Each Ball)\n",
    "A bar chart containing the probabilities of attaining one of each ball (assuming 3 balls taken per draw) vs. the number of draws."
   ]
  },
  {
   "cell_type": "code",
   "execution_count": 45,
   "metadata": {
    "collapsed": false
   },
   "outputs": [
    {
     "data": {
      "image/png": "[encoded data removed]",
      "text/plain": [
       "<matplotlib.figure.Figure at 0x25c21bc4be0>"
      ]
     },
     "metadata": {},
     "output_type": "display_data"
    }
   ],
   "source": [
    "font = {'fontname':'Lato'}\n",
    "\n",
    "import seaborn as sns\n",
    "\n",
    "current_palette = sns.color_palette()\n",
    "\n",
    "with sns.axes_style(\"whitegrid\"):\n",
    "    \n",
    "    sns.set_palette(current_palette)\n",
    "    sns.set_color_codes('muted')\n",
    "\n",
    "    # plt.bar(barwidths, yaxis1, color='green', edgecolor='none')\n",
    "    sns.barplot(xaxis, yaxis1, color='g', edgecolor='none')\n",
    "\n",
    "    plt.ylabel(\"Probability\", **font)\n",
    "    plt.xlabel(\"Draws\", **font)\n",
    "    plt.title(\"Simulated Probability of Picking One of Each vs. Number of Draws\", **font)\n",
    "    plt.xticks(rotation=\"90\", **font)\n",
    "    plt.yticks(**font)\n",
    "    axes = plt.gca()\n",
    "    axes.set_ylim([0,1])\n",
    "    # plt.autoscale()\n",
    "    # x1,x2,y1,y2 = plt.axis()\n",
    "    # plt.axis([x1,x2,0,1])\n",
    "\n",
    "    # sns.barplot(x=\"draws\", y=\"probability\")\n",
    "    sns.plt.show()"
   ]
  },
  {
   "cell_type": "markdown",
   "metadata": {},
   "source": [
    "#### Plot 2 (Scenario 2: At Least One Red)\n",
    "Below is a bar chart containing the probabilities of attaining at least one red (assuming 3 balls taken per draw) vs. the number of draws."
   ]
  },
  {
   "cell_type": "code",
   "execution_count": 7,
   "metadata": {
    "collapsed": false
   },
   "outputs": [
    {
     "data": {
      "image/png": "[encoded data removed]",
      "text/plain": [
       "<matplotlib.figure.Figure at 0x25c20a7b160>"
      ]
     },
     "metadata": {},
     "output_type": "display_data"
    }
   ],
   "source": [
    "plt.bar(barwidths, yaxis2, color='green', edgecolor='none')\n",
    "\n",
    "plt.ylabel(\"Probability\", **font)\n",
    "plt.xlabel(\"Draws\", **font)\n",
    "plt.title(\"Simulated Probability of Getting at Least One Red vs. Number of Draws\", **font)\n",
    "plt.xticks([i+0.4 for i in range(len(xaxislabels))], xaxislabels, rotation=\"90\")\n",
    "plt.autoscale()\n",
    "x1,x2,y1,y2 = plt.axis()\n",
    "plt.axis([x1,x2,0,1])\n",
    "sns.plt.show()"
   ]
  },
  {
   "cell_type": "markdown",
   "metadata": {},
   "source": [
    "### Conclusion\n",
    "The above plots indeed appear to indicate that the respective probabilities converge to the values one can derive analytically:\n",
    "\n",
    "For Scenario 1, the answer appears to converge at around 25%, which is close to 24.56% (or 14/57).\n",
    "\n",
    "For Scenario 2, the answer appears to converge at around 75%, which is close to 74.91% (or 427/570)."
   ]
  },
  {
   "cell_type": "markdown",
   "metadata": {},
   "source": [
    "### Appendix: Table of Data\n",
    "Presented below is the data that corresponds to that contained in the two bar charts above, for easier viewing of the numerical information."
   ]
  },
  {
   "cell_type": "code",
   "execution_count": 7,
   "metadata": {
    "collapsed": false
   },
   "outputs": [
    {
     "data": {
      "text/html": [
       "<div>\n",
       "<table border=\"1\" class=\"dataframe\">\n",
       "  <thead>\n",
       "    <tr style=\"text-align: right;\">\n",
       "      <th>Draws</th>\n",
       "      <th>One of Each</th>\n",
       "      <th>At Least One Red</th>\n",
       "    </tr>\n",
       "  </thead>\n",
       "  <tbody>\n",
       "    <tr>\n",
       "      <th>10</th>\n",
       "      <td>0.200000</td>\n",
       "      <td>0.500000</td>\n",
       "    </tr>\n",
       "    <tr>\n",
       "      <th>20</th>\n",
       "      <td>0.350000</td>\n",
       "      <td>0.750000</td>\n",
       "    </tr>\n",
       "    <tr>\n",
       "      <th>30</th>\n",
       "      <td>0.266667</td>\n",
       "      <td>0.633333</td>\n",
       "    </tr>\n",
       "    <tr>\n",
       "      <th>40</th>\n",
       "      <td>0.300000</td>\n",
       "      <td>0.675000</td>\n",
       "    </tr>\n",
       "    <tr>\n",
       "      <th>50</th>\n",
       "      <td>0.140000</td>\n",
       "      <td>0.800000</td>\n",
       "    </tr>\n",
       "    <tr>\n",
       "      <th>60</th>\n",
       "      <td>0.250000</td>\n",
       "      <td>0.816667</td>\n",
       "    </tr>\n",
       "    <tr>\n",
       "      <th>70</th>\n",
       "      <td>0.257143</td>\n",
       "      <td>0.742857</td>\n",
       "    </tr>\n",
       "    <tr>\n",
       "      <th>80</th>\n",
       "      <td>0.200000</td>\n",
       "      <td>0.725000</td>\n",
       "    </tr>\n",
       "    <tr>\n",
       "      <th>90</th>\n",
       "      <td>0.300000</td>\n",
       "      <td>0.744444</td>\n",
       "    </tr>\n",
       "    <tr>\n",
       "      <th>100</th>\n",
       "      <td>0.290000</td>\n",
       "      <td>0.760000</td>\n",
       "    </tr>\n",
       "    <tr>\n",
       "      <th>200</th>\n",
       "      <td>0.245000</td>\n",
       "      <td>0.740000</td>\n",
       "    </tr>\n",
       "    <tr>\n",
       "      <th>300</th>\n",
       "      <td>0.253333</td>\n",
       "      <td>0.756667</td>\n",
       "    </tr>\n",
       "    <tr>\n",
       "      <th>400</th>\n",
       "      <td>0.235000</td>\n",
       "      <td>0.737500</td>\n",
       "    </tr>\n",
       "    <tr>\n",
       "      <th>500</th>\n",
       "      <td>0.232000</td>\n",
       "      <td>0.782000</td>\n",
       "    </tr>\n",
       "    <tr>\n",
       "      <th>600</th>\n",
       "      <td>0.226667</td>\n",
       "      <td>0.743333</td>\n",
       "    </tr>\n",
       "    <tr>\n",
       "      <th>700</th>\n",
       "      <td>0.231429</td>\n",
       "      <td>0.772857</td>\n",
       "    </tr>\n",
       "    <tr>\n",
       "      <th>800</th>\n",
       "      <td>0.258750</td>\n",
       "      <td>0.773750</td>\n",
       "    </tr>\n",
       "    <tr>\n",
       "      <th>900</th>\n",
       "      <td>0.242222</td>\n",
       "      <td>0.741111</td>\n",
       "    </tr>\n",
       "    <tr>\n",
       "      <th>1000</th>\n",
       "      <td>0.250000</td>\n",
       "      <td>0.743000</td>\n",
       "    </tr>\n",
       "    <tr>\n",
       "      <th>2000</th>\n",
       "      <td>0.245500</td>\n",
       "      <td>0.762000</td>\n",
       "    </tr>\n",
       "    <tr>\n",
       "      <th>3000</th>\n",
       "      <td>0.244333</td>\n",
       "      <td>0.753667</td>\n",
       "    </tr>\n",
       "    <tr>\n",
       "      <th>4000</th>\n",
       "      <td>0.240750</td>\n",
       "      <td>0.751000</td>\n",
       "    </tr>\n",
       "    <tr>\n",
       "      <th>5000</th>\n",
       "      <td>0.246600</td>\n",
       "      <td>0.760200</td>\n",
       "    </tr>\n",
       "    <tr>\n",
       "      <th>6000</th>\n",
       "      <td>0.243833</td>\n",
       "      <td>0.749167</td>\n",
       "    </tr>\n",
       "    <tr>\n",
       "      <th>7000</th>\n",
       "      <td>0.255286</td>\n",
       "      <td>0.753429</td>\n",
       "    </tr>\n",
       "    <tr>\n",
       "      <th>8000</th>\n",
       "      <td>0.239375</td>\n",
       "      <td>0.741750</td>\n",
       "    </tr>\n",
       "    <tr>\n",
       "      <th>9000</th>\n",
       "      <td>0.245667</td>\n",
       "      <td>0.747111</td>\n",
       "    </tr>\n",
       "    <tr>\n",
       "      <th>10000</th>\n",
       "      <td>0.244700</td>\n",
       "      <td>0.755300</td>\n",
       "    </tr>\n",
       "    <tr>\n",
       "      <th>50000</th>\n",
       "      <td>0.248580</td>\n",
       "      <td>0.749720</td>\n",
       "    </tr>\n",
       "    <tr>\n",
       "      <th>100000</th>\n",
       "      <td>0.243380</td>\n",
       "      <td>0.747590</td>\n",
       "    </tr>\n",
       "    <tr>\n",
       "      <th>500000</th>\n",
       "      <td>0.246424</td>\n",
       "      <td>0.748978</td>\n",
       "    </tr>\n",
       "    <tr>\n",
       "      <th>1000000</th>\n",
       "      <td>0.246339</td>\n",
       "      <td>0.749172</td>\n",
       "    </tr>\n",
       "  </tbody>\n",
       "</table>\n",
       "</div>"
      ],
      "text/plain": [
       "Draws    One of Each  At Least One Red\n",
       "10          0.200000          0.500000\n",
       "20          0.350000          0.750000\n",
       "30          0.266667          0.633333\n",
       "40          0.300000          0.675000\n",
       "50          0.140000          0.800000\n",
       "60          0.250000          0.816667\n",
       "70          0.257143          0.742857\n",
       "80          0.200000          0.725000\n",
       "90          0.300000          0.744444\n",
       "100         0.290000          0.760000\n",
       "200         0.245000          0.740000\n",
       "300         0.253333          0.756667\n",
       "400         0.235000          0.737500\n",
       "500         0.232000          0.782000\n",
       "600         0.226667          0.743333\n",
       "700         0.231429          0.772857\n",
       "800         0.258750          0.773750\n",
       "900         0.242222          0.741111\n",
       "1000        0.250000          0.743000\n",
       "2000        0.245500          0.762000\n",
       "3000        0.244333          0.753667\n",
       "4000        0.240750          0.751000\n",
       "5000        0.246600          0.760200\n",
       "6000        0.243833          0.749167\n",
       "7000        0.255286          0.753429\n",
       "8000        0.239375          0.741750\n",
       "9000        0.245667          0.747111\n",
       "10000       0.244700          0.755300\n",
       "50000       0.248580          0.749720\n",
       "100000      0.243380          0.747590\n",
       "500000      0.246424          0.748978\n",
       "1000000     0.246339          0.749172"
      ]
     },
     "execution_count": 7,
     "metadata": {},
     "output_type": "execute_result"
    }
   ],
   "source": [
    "import pandas as pd\n",
    "\n",
    "d = {'One of Each': yaxis1, 'At Least One Red': yaxis2}\n",
    "df = pd.DataFrame(data=d, index=xaxis)\n",
    "df = df[['One of Each','At Least One Red']]\n",
    "# df.index.name = 'Draws'\n",
    "# df.columns.name = 'Scenarios'\n",
    "df.columns.name = 'Draws'\n",
    "df"
   ]
  }
 ],
 "metadata": {
  "anaconda-cloud": {},
  "kernelspec": {
   "display_name": "Python [conda root]",
   "language": "python",
   "name": "conda-root-py"
  },
  "language_info": {
   "codemirror_mode": {
    "name": "ipython",
    "version": 3
   },
   "file_extension": ".py",
   "mimetype": "text/x-python",
   "name": "python",
   "nbconvert_exporter": "python",
   "pygments_lexer": "ipython3",
   "version": "3.5.2"
  },
  "nbpresent": {
   "slides": {},
   "themes": {
    "default": "7455ee05-4f45-45b9-b75a-b8285aa4ac41",
    "theme": {}
   }
  }
 },
 "nbformat": 4,
 "nbformat_minor": 0
}
