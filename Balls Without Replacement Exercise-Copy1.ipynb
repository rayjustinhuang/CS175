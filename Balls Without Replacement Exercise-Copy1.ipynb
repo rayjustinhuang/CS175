{
 "cells": [
  {
   "cell_type": "markdown",
   "metadata": {
    "collapsed": true
   },
   "source": [
    "## CS 175: Topics in Computational Science - Probabilities, Distributions, and Stochastics\n",
    "Professor: Roy Vincent L. Canseco, MSEE\n",
    "\n",
    "Ray Justin O. Huang | SN: 2012 62256 | Date: January 25, 2017 | rayjustinhuang@gmail.com"
   ]
  },
  {
   "cell_type": "markdown",
   "metadata": {},
   "source": [
    "# Balls Without Replacement Exercise\n",
    "This is an assignment meant to show how probabilities of certain empirical phenomena converge at their analytically derivable values as the number of trials increases."
   ]
  },
  {
   "cell_type": "markdown",
   "metadata": {},
   "source": [
    "### BALL PICKING ENGINE\n",
    "Given a number of balls and a number of red, white, and black balls, generates a tuple of drawn balls\n",
    "of the format (reds, whites, blacks)"
   ]
  },
  {
   "cell_type": "code",
   "execution_count": 9,
   "metadata": {
    "collapsed": false
   },
   "outputs": [],
   "source": [
    "from numpy import random\n",
    "\n",
    "def BallPicker(take=3, red=7, white=5, black=8):\n",
    "    SetofBalls = [0,0,0]\n",
    "    for run in range(take):\n",
    "        TotalBalls = red + white + black\n",
    "        seed = random.randint(1,TotalBalls+1)\n",
    "        if seed > red + white:\n",
    "            SetofBalls[2] += 1\n",
    "            black -= 1\n",
    "        elif seed > red:\n",
    "            SetofBalls[1] += 1\n",
    "            white -= 1\n",
    "        else:\n",
    "            SetofBalls[0] += 1\n",
    "            red -= 1\n",
    "    return tuple(SetofBalls)"
   ]
  },
  {
   "cell_type": "code",
   "execution_count": 19,
   "metadata": {
    "collapsed": false
   },
   "outputs": [
    {
     "name": "stdout",
     "output_type": "stream",
     "text": [
      "1000000 loops, best of 3: 102 ns per loop\n"
     ]
    }
   ],
   "source": [
    "%%timeit -n 1000000\n",
    "def BallPicker(take=3, red=7, white=5, black=8):\n",
    "    SetofBalls = [0,0,0]\n",
    "    for run in range(take):\n",
    "        TotalBalls = red + white + black\n",
    "        seed = random.randint(1,TotalBalls+1)\n",
    "        if seed > red + white:\n",
    "            SetofBalls[2] += 1\n",
    "            black -= 1\n",
    "        elif seed > red:\n",
    "            SetofBalls[1] += 1\n",
    "            white -= 1\n",
    "        else:\n",
    "            SetofBalls[0] += 1\n",
    "            red -= 1\n",
    "    return tuple(SetofBalls)\n",
    "\n",
    "# print(BallPicker())"
   ]
  },
  {
   "cell_type": "code",
   "execution_count": 11,
   "metadata": {
    "collapsed": false
   },
   "outputs": [
    {
     "name": "stdout",
     "output_type": "stream",
     "text": [
      "1000000 loops, best of 3: 102 ns per loop\n"
     ]
    }
   ],
   "source": [
    "%%timeit -n 1000000\n",
    "def BallPicker(take=3, red=7, white=5, black=8):\n",
    "    R, W, B = 0, 0, 0\n",
    "    for run in range(take):\n",
    "        TotalBalls = red + white + black\n",
    "        seed = random.randint(1,TotalBalls+1)\n",
    "        if seed > red + white:\n",
    "            B += 1\n",
    "            black -= 1\n",
    "        elif seed > red:\n",
    "            W += 1\n",
    "            white -= 1\n",
    "        else:\n",
    "            R += 1\n",
    "            red -= 1\n",
    "    return (R,W,B)\n",
    "\n",
    "# print(BallPicker())"
   ]
  },
  {
   "cell_type": "markdown",
   "metadata": {},
   "source": [
    "### Scenario 1: ONE OF EACH\n",
    "Given a number of runs, returns the probability that the resulting draw turned out to have one of each colored ball. Assumes 3 balls are taken from the bag per draw."
   ]
  },
  {
   "cell_type": "code",
   "execution_count": 15,
   "metadata": {
    "collapsed": false
   },
   "outputs": [
    {
     "name": "stdout",
     "output_type": "stream",
     "text": [
      "1000000 loops, best of 3: 62.5 ns per loop\n"
     ]
    }
   ],
   "source": [
    "%%timeit -n 1000000\n",
    "def OneOfEach(runs):\n",
    "    DesiredOutcomes = 0\n",
    "    for i in range(runs):\n",
    "        result = BallPicker()\n",
    "        if result == (1,1,1):\n",
    "            DesiredOutcomes += 1\n",
    "    return DesiredOutcomes/runs"
   ]
  },
  {
   "cell_type": "markdown",
   "metadata": {},
   "source": [
    "#### Analytical Solution for Scenario 1\n",
    "Analytically, one can derive the solution for scenario 1 by using the following calculation, which relies on the hypergeometric distribution:\n",
    "\n",
    "\\begin{align}\n",
    "P(R=1,W=1,B=1)=\\frac{{7 \\choose 1}{5 \\choose 1}{8 \\choose 1}}{20 \\choose 3}=\\frac{14}{57}\\approx 24.57\\%\n",
    "\\end{align}"
   ]
  },
  {
   "cell_type": "markdown",
   "metadata": {},
   "source": [
    "### Scenario 2: AT LEAST ONE RED\n",
    "Given a number of runs, returns the probability that the resulting draw turned out to have at least one red ball. Assumes 3 balls are taken from the bag per draw."
   ]
  },
  {
   "cell_type": "code",
   "execution_count": 20,
   "metadata": {
    "collapsed": false
   },
   "outputs": [
    {
     "name": "stdout",
     "output_type": "stream",
     "text": [
      "1000000 loops, best of 3: 59.8 ns per loop\n"
     ]
    }
   ],
   "source": [
    "%%timeit -n 1000000\n",
    "def AtLeastOneRed(runs):\n",
    "    DesiredOutcomes = 0\n",
    "    for i in range(runs):\n",
    "        result = BallPicker()\n",
    "        if result[0] >= 1:\n",
    "            DesiredOutcomes += 1\n",
    "    return DesiredOutcomes/runs"
   ]
  },
  {
   "cell_type": "markdown",
   "metadata": {},
   "source": [
    "#### Analytical Solution for Scenario 2\n",
    "Analytically, one can derive the solution for scenario 2 by using the following calculation, which also relies on the hypergeometric distribution:\n",
    "\n",
    "\\begin{align}\n",
    "P(R\\geq1)=1-\\frac{{7 \\choose 0}{13 \\choose 3}}{20 \\choose 3}=\\frac{427}{570}\\approx 74.91\\%\n",
    "\\end{align}"
   ]
  },
  {
   "cell_type": "markdown",
   "metadata": {},
   "source": [
    "### Plotting\n",
    "Prepares the necessary axes and other parameters for plotting both bar charts.\n",
    "\n",
    "Note: The x-axis consists of numbers 10 to 90 in increments of 10, 100 to 900 in increments of 100, 1000 to 9000 in increments of 1000, and 10000, 50000, 100000, 500000, and 1000000."
   ]
  },
  {
   "cell_type": "code",
   "execution_count": 9,
   "metadata": {
    "collapsed": true
   },
   "outputs": [],
   "source": [
    "import matplotlib.pyplot as plt\n",
    "\n",
    "xaxis = [i*10 for i in range(1,10)] + [i*100 for i in range(1,10)] + [i*1000 for i in range(1,10)] + [10**x for x in range(4,7)] + [5*(10**x) for x in range(4,6)]\n",
    "xaxis.sort()\n",
    "xaxislabels = [str(xaxis[i]) for i in range(len(xaxis))]\n",
    "\n",
    "barwidths = [i for i in range(len(xaxis))]\n",
    "\n",
    "yaxis1 = [ OneOfEach(xaxis[i]) for i in range(len(xaxis)) ]\n",
    "\n",
    "yaxis2 = [ AtLeastOneRed(xaxis[i]) for i in range(len(xaxis)) ]"
   ]
  },
  {
   "cell_type": "markdown",
   "metadata": {},
   "source": [
    "#### Plot 1 (One of Each Ball)\n",
    "A bar chart containing the probabilities of attaining one of each ball (assuming 3 balls taken per draw) vs. the number of draws."
   ]
  },
  {
   "cell_type": "code",
   "execution_count": 10,
   "metadata": {
    "collapsed": false
   },
   "outputs": [
    {
     "data": {
      "image/png": "[encoded data removed]",
      "text/plain": [
       "<matplotlib.figure.Figure at 0x2d28087b7b8>"
      ]
     },
     "metadata": {},
     "output_type": "display_data"
    }
   ],
   "source": [
    "plt.bar(barwidths, yaxis1, color='green')\n",
    "\n",
    "plt.ylabel(\"Probability\")\n",
    "plt.xlabel(\"Draws\")\n",
    "plt.title(\"Simulated Probability of Picking One of Each vs. Number of Draws\")\n",
    "plt.xticks([i for i in range(len(xaxislabels))], xaxislabels, rotation=\"45\")\n",
    "plt.autoscale()\n",
    "x1,x2,y1,y2 = plt.axis()\n",
    "plt.axis([x1,x2,0,1])\n",
    "plt.show()"
   ]
  },
  {
   "cell_type": "markdown",
   "metadata": {},
   "source": [
    "#### Plot 2 (At Least One Red)\n",
    "Below is a bar chart containing the probabilities of attaining at least one red (assuming 3 balls taken per draw) vs. the number of draws."
   ]
  },
  {
   "cell_type": "code",
   "execution_count": 11,
   "metadata": {
    "collapsed": false
   },
   "outputs": [
    {
     "data": {
      "image/png": "[encoded data removed]",
      "text/plain": [
       "<matplotlib.figure.Figure at 0x2d280ac6b00>"
      ]
     },
     "metadata": {},
     "output_type": "display_data"
    }
   ],
   "source": [
    "plt.bar(barwidths, yaxis2, color='green')\n",
    "\n",
    "plt.ylabel(\"Probability\")\n",
    "plt.xlabel(\"Draws\")\n",
    "plt.title(\"Simulated Probability of Getting at Least One Red vs. Number of Draws\")\n",
    "plt.xticks([i for i in range(len(xaxislabels))], xaxislabels, rotation=\"45\")\n",
    "plt.autoscale()\n",
    "x1,x2,y1,y2 = plt.axis()\n",
    "plt.axis([x1,x2,0,1])\n",
    "plt.show()"
   ]
  },
  {
   "cell_type": "markdown",
   "metadata": {},
   "source": [
    "### Conclusion\n",
    "The above plots indeed appear to indicate that the respective probabilities converge to the values one can derive analytically:\n",
    "\n",
    "For Scenario 1, the answer appears to converge at around 25%, which is close to 24.56% (or 14/57).\n",
    "\n",
    "For Scenario 2, the answer appears to converge at around 75%, which is close to 74.91% (or 427/570)."
   ]
  }
 ],
 "metadata": {
  "anaconda-cloud": {},
  "kernelspec": {
   "display_name": "Python [default]",
   "language": "python",
   "name": "python3"
  },
  "language_info": {
   "codemirror_mode": {
    "name": "ipython",
    "version": 3
   },
   "file_extension": ".py",
   "mimetype": "text/x-python",
   "name": "python",
   "nbconvert_exporter": "python",
   "pygments_lexer": "ipython3",
   "version": "3.5.2"
  }
 },
 "nbformat": 4,
 "nbformat_minor": 0
}
